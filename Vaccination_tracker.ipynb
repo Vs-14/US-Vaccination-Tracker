{
 "cells": [
  {
   "attachments": {},
   "cell_type": "markdown",
   "metadata": {},
   "source": [
    "Imports"
   ]
  },
  {
   "cell_type": "code",
   "execution_count": null,
   "metadata": {},
   "outputs": [],
   "source": [
    "import pandas as pd\n",
    "import math\n",
    "import folium\n",
    "from folium import Marker"
   ]
  },
  {
   "attachments": {},
   "cell_type": "markdown",
   "metadata": {},
   "source": [
    "Loading the data"
   ]
  },
  {
   "cell_type": "code",
   "execution_count": null,
   "metadata": {},
   "outputs": [],
   "source": [
    "population_data = pd.read_csv('2019_Census_US_Population_Data_By_State_Lat_Long.csv')\n",
    "vaccination_data = pd.read_csv('USA_VaccinationData.csv')\n",
    "\n",
    "#run the commented code below to get latest data online rather than using the preloaded csv file\n",
    "#vaccination_data = pd.read_csv('https://raw.githubusercontent.com/owid/covid-19-data/master/public/data/vaccinations/us_state_vaccinations.csv')"
   ]
  },
  {
   "cell_type": "code",
   "execution_count": null,
   "metadata": {},
   "outputs": [],
   "source": [
    "#getting dates with non NAN values\n",
    "valid_dates = vaccination_data.loc[(vaccination_data.people_vaccinated.isna() == False)]['date'] #to get dates that have dont have nan values"
   ]
  },
  {
   "attachments": {},
   "cell_type": "markdown",
   "metadata": {},
   "source": [
    "Getting date from user that is valid"
   ]
  },
  {
   "cell_type": "code",
   "execution_count": null,
   "metadata": {},
   "outputs": [],
   "source": [
    "yr = input(\"Enter the year as YYYY\")\n",
    "m = input(\"Enter month as MM\")\n",
    "options = []\n",
    "dt = yr + '-' + m\n",
    "for i in valid_dates:\n",
    "    if dt in i[:7]:\n",
    "        if i[8:] in options:\n",
    "            pass\n",
    "        else:\n",
    "            options.append(i[8:])\n",
    "d = input(f\"Choose and enter the date from the following as DD {options}\")\n",
    "dt = dt + '-' + d"
   ]
  },
  {
   "cell_type": "code",
   "execution_count": null,
   "metadata": {},
   "outputs": [],
   "source": [
    "#Creates a new filtered table with the data of date chosen by the user\n",
    "filtered = vaccination_data.loc[(vaccination_data.people_vaccinated.isna() == False)&(vaccination_data.date == dt)][['location','people_vaccinated']]"
   ]
  },
  {
   "attachments": {},
   "cell_type": "markdown",
   "metadata": {},
   "source": [
    "Merges the population and vaccination tables together"
   ]
  },
  {
   "cell_type": "code",
   "execution_count": null,
   "metadata": {},
   "outputs": [],
   "source": [
    "merged = pd.merge(population_data,filtered,left_on='STATE',right_on='location').drop(columns='location')\n",
    "merged['percentage_vaccinated'] = merged['people_vaccinated'] / merged['POPESTIMATE2019']"
   ]
  },
  {
   "attachments": {},
   "cell_type": "markdown",
   "metadata": {},
   "source": [
    "Calculates the percentage vaccinated"
   ]
  },
  {
   "cell_type": "code",
   "execution_count": null,
   "metadata": {},
   "outputs": [],
   "source": [
    "total_per = merged['people_vaccinated'].sum() / merged['POPESTIMATE2019'].sum()\n",
    "per = round(total_per*100,2)\n",
    "print(f\"On {dt} {per}% of US was vaccinated\")"
   ]
  },
  {
   "attachments": {},
   "cell_type": "markdown",
   "metadata": {},
   "source": [
    "Visualising Map using Marker"
   ]
  },
  {
   "cell_type": "code",
   "execution_count": null,
   "metadata": {},
   "outputs": [],
   "source": [
    "vaccination_map = folium.Map(location=[42.32,-71.0589], tiles='cartodbpositron', zoom_start=4)\n",
    "\n",
    "for idx,row in merged.iterrows():\n",
    "    Marker([row['lat'],row['long']],tooltip=str(round(row['percentage_vaccinated']*100,2))+'%',popup=row['STATE']).add_to(vaccination_map)\n",
    "\n",
    "display(vaccination_map)"
   ]
  }
 ],
 "metadata": {
  "kernelspec": {
   "display_name": "Python 3",
   "language": "python",
   "name": "python3"
  },
  "language_info": {
   "codemirror_mode": {
    "name": "ipython",
    "version": 3
   },
   "file_extension": ".py",
   "mimetype": "text/x-python",
   "name": "python",
   "nbconvert_exporter": "python",
   "pygments_lexer": "ipython3",
   "version": "3.10.4"
  },
  "orig_nbformat": 4,
  "vscode": {
   "interpreter": {
    "hash": "df22a560094548c539748cdd8e13eaf78772b71f654b44a38fd3d9135e03456d"
   }
  }
 },
 "nbformat": 4,
 "nbformat_minor": 2
}
